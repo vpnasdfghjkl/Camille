{
 "cells": [
  {
   "cell_type": "code",
   "execution_count": 9,
   "metadata": {},
   "outputs": [
    {
     "name": "stdout",
     "output_type": "stream",
     "text": [
      "<class 'str'>\n"
     ]
    }
   ],
   "source": [
    "ret = list()\n",
    "ret.append(\"M\"*3)\n",
    "print(type(str(ret)))"
   ]
  },
  {
   "cell_type": "code",
   "execution_count": 10,
   "metadata": {},
   "outputs": [
    {
     "name": "stdout",
     "output_type": "stream",
     "text": [
      "n > 99\n"
     ]
    }
   ],
   "source": [
    "n = 100\n",
    "if n > 99:\n",
    "    print(\"n > 99\")\n",
    "elif n >10:\n",
    "    print(\"n > 10\")\n",
    "    \n",
    "    "
   ]
  },
  {
   "cell_type": "code",
   "execution_count": 14,
   "metadata": {},
   "outputs": [
    {
     "name": "stdout",
     "output_type": "stream",
     "text": [
      "MMMDCCXLIX\n"
     ]
    }
   ],
   "source": [
    "list_str = ['MMM', 'DCC', 'XL', 'IX']\n",
    "all_str = ''.join(list_str)\n",
    "print(str(all_str))"
   ]
  },
  {
   "cell_type": "code",
   "execution_count": 52,
   "metadata": {},
   "outputs": [
    {
     "data": {
      "text/plain": [
       "[0, 8, 16]"
      ]
     },
     "execution_count": 52,
     "metadata": {},
     "output_type": "execute_result"
    }
   ],
   "source": [
    "#create a 2d list for string ,numRows = 3, numCols = ?\n",
    "numRows = 3\n",
    "numCols = n\n",
    "list_str = [['' for i in range(numCols)] for j in range(numRows)]\n",
    "\n",
    "array = [1, 2, 3, 4, 5]\n",
    "list(range(0, 20, 8))\n",
    "\n"
   ]
  },
  {
   "cell_type": "code",
   "execution_count": 2,
   "metadata": {},
   "outputs": [
    {
     "name": "stdout",
     "output_type": "stream",
     "text": [
      "['Science   is what we', 'understand      well', 'enough to explain to', 'a   computer. Art is', 'everything  else  we', 'do                  ']\n"
     ]
    }
   ],
   "source": [
    "from typing import List\n",
    "class Solution:\n",
    "    def fullJustify(self, words: List[str], maxWidth: int) -> List[str]:\n",
    "        i, j = 0, 0 \n",
    "        cur_sum = 0\n",
    "        ret = []\n",
    "        while i < len(words) and j < len(words):\n",
    "            cur_sum += len(words[j])\n",
    "            \n",
    "            if (cur_sum + (j-i))  > maxWidth:\n",
    "                cur_sum -= len(words[j])\n",
    "                num_word = j - i\n",
    "                if num_word == 1:\n",
    "                    first_space = maxWidth - cur_sum\n",
    "                else:\n",
    "                    average_space = (maxWidth - cur_sum) //(num_word-1) \n",
    "                    first_space = (maxWidth - cur_sum) % (num_word-1) + average_space \n",
    "                    other_space = average_space\n",
    "                \n",
    "                the_line = \"\"\n",
    "                for k in range(i, j):\n",
    "                    if k == i:\n",
    "                        the_line = the_line + words[k] + (\" \" * first_space)\n",
    "                    elif k == j-1:\n",
    "                        the_line = the_line + words[k]\n",
    "                    else:\n",
    "                        the_line = the_line + words[k] + (\" \" * other_space)\n",
    "                ret.append(the_line)\n",
    "\n",
    "                cur_sum = 0\n",
    "                i = j\n",
    "            else:\n",
    "                j += 1\n",
    "        \n",
    "        the_line = \"\"\n",
    "        for k in range(i, j):\n",
    "            if k != j-1:\n",
    "                the_line = the_line + words[k] + \" \"\n",
    "            else:\n",
    "                the_line = the_line + words[k] + \" \" * (maxWidth - cur_sum - (j-i-1))\n",
    "        ret.append(the_line)\n",
    "\n",
    "        return ret\n",
    "s = Solution()\n",
    "words = [\"Science\",\"is\",\"what\",\"we\",\"understand\",\"well\",\"enough\",\"to\",\"explain\",\"to\",\"a\",\"computer.\",\"Art\",\"is\",\"everything\",\"else\",\"we\",\"do\"]\n",
    "maxWidth = 20\n",
    "print(s.fullJustify(words, maxWidth))"
   ]
  },
  {
   "cell_type": "code",
   "execution_count": null,
   "metadata": {},
   "outputs": [],
   "source": [
    "class Solution:\n",
    "    def strStr(self, haystack: str, needle: str) -> int:\n",
    "        for i in range(0, len(haystack)-len(needle)+1):\n",
    "            if haystack[i] == needle[0]:\n",
    "                for j in range(len(needle)):\n",
    "                    if haystack[i+j] == needle[j]:\n",
    "                        continue\n",
    "                    else:\n",
    "                        break\n",
    "                if j == len(needle):\n",
    "                    return i\n",
    "            else:\n",
    "                continue\n",
    "        return -1\n",
    "s = Solution()\n",
    "s.strStr(\"sadbutsad\",\"sad\")"
   ]
  },
  {
   "cell_type": "code",
   "execution_count": 2,
   "metadata": {},
   "outputs": [],
   "source": [
    "for i in range(8,7):\n",
    "    print(\"1\")"
   ]
  },
  {
   "cell_type": "code",
   "execution_count": null,
   "metadata": {},
   "outputs": [],
   "source": []
  },
  {
   "cell_type": "code",
   "execution_count": null,
   "metadata": {},
   "outputs": [],
   "source": [
    "class Solution(object):\n",
    "    def threeSum(self, nums):\n",
    "        \"\"\"\n",
    "        :type nums: List[int]\n",
    "        :rtype: List[List[int]]\n",
    "        \"\"\"\n",
    "        sorted_num = sorted(nums)\n",
    "        ret = []\n",
    "        for i in range(len(sorted_num)):\n",
    "            target = 0 - sorted_num[i]\n",
    "            j, k = 0, len(sorted_num)-1\n",
    "            while j < k:\n",
    "                if j == i :\n",
    "                    j += 1\n",
    "                    continue\n",
    "                if k == i:\n",
    "                    k -= 1\n",
    "                    continue\n",
    "                if sorted_num[j] + sorted_num[k] < target:\n",
    "                    j += 1\n",
    "                elif sorted_num[j] + sorted_num[k] > target:\n",
    "                    k -= 1\n",
    "                else:\n",
    "                    ret.append([sorted_num[i], sorted_num[j], sorted_num[k]])\n",
    "        return ret\n",
    "\n",
    "        # -4 -1 -1 0 1 2\n",
    "s = Solution()\n",
    "s.threeSum([-1,0,1,2,-1,-4])"
   ]
  },
  {
   "cell_type": "code",
   "execution_count": 25,
   "metadata": {},
   "outputs": [
    {
     "name": "stdout",
     "output_type": "stream",
     "text": [
      "[[0.87742467 0.68606537 0.85436081 0.58101485 0.043006   0.31437145\n",
      "  0.         0.         0.         0.         0.139985   0.\n",
      "  0.         0.         0.         0.         0.         0.\n",
      "  0.         0.         0.         0.         0.         0.\n",
      "  0.         0.         0.         0.         0.         0.\n",
      "  0.         0.         0.         0.         0.         0.\n",
      "  0.         0.         0.         0.         0.         0.\n",
      "  0.         0.         0.         0.         0.         0.\n",
      "  0.         0.         0.86495446 0.17457013 0.19101457 0.57609387\n",
      "  0.46373903 0.70885772 0.         0.         0.         0.\n",
      "  0.38168736 0.         0.         0.         0.         0.\n",
      "  0.         0.         0.         0.         0.         0.\n",
      "  0.         0.         0.         0.         0.         0.\n",
      "  0.         0.         0.         0.         0.         0.\n",
      "  0.         0.         0.         0.         0.         0.\n",
      "  0.         0.         0.         0.         0.         0.\n",
      "  0.         0.         0.         0.         0.         0.\n",
      "  0.         0.         0.         0.         0.         0.\n",
      "  0.         0.         0.         0.         0.         0.\n",
      "  0.         0.         0.         0.         0.         0.\n",
      "  0.         0.         0.         0.         0.         0.\n",
      "  0.         0.        ]]\n"
     ]
    }
   ],
   "source": [
    "import numpy as np\n",
    "T = 1\n",
    "D = 14\n",
    "values = np.random.rand(T, D)\n",
    "uni_vec = np.zeros(values.shape[:-1] + (128,))\n",
    "UNI_STATE_INDICES = [50, 51, 52, 53, 54, 55, 60, 0, 1, 2, 3, 4, 5, 10]\n",
    "uni_vec[..., UNI_STATE_INDICES] = values\n",
    "print(uni_vec)"
   ]
  },
  {
   "cell_type": "code",
   "execution_count": 9,
   "metadata": {},
   "outputs": [
    {
     "name": "stdout",
     "output_type": "stream",
     "text": [
      "85\n"
     ]
    }
   ],
   "source": [
    "from typing import List\n",
    "class Solution:\n",
    "    def minTimeToReach(self, moveTime: List[List[int]]) -> int:\n",
    "        # dp[i][j] = min(dp[i-1][j], dp[i][j-1]) + 1\n",
    "        n = len(moveTime)\n",
    "        m = len(moveTime[0])\n",
    "        dp = [[0 for i in range(m)] for j in range(n)]\n",
    "        dp[0][0] == 0\n",
    "        \n",
    "        for j in range(1, m):\n",
    "            if dp[0][j-1] >= moveTime[0][j]:\n",
    "                dp[0][j] = dp[0][j-1] + 1\n",
    "            else:\n",
    "                dp[0][j] = moveTime[0][j] + 1\n",
    "        \n",
    "        for i in range(1, n):\n",
    "            if dp[i-1][0] >= moveTime[i][0]:\n",
    "                dp[i][0] = dp[i-1][0] + 1\n",
    "            else:\n",
    "                dp[i][0] = moveTime[i][0] + 1\n",
    "        for i in range(1, n):\n",
    "            for j in range(1, m):\n",
    "                if moveTime[i][j] >= min(dp[i-1][j], dp[i][j-1]):\n",
    "                    dp[i][j] = moveTime[i][j] + 1\n",
    "                else:\n",
    "                    dp[i][j] = min(dp[i-1][j], dp[i][j-1]) + 1\n",
    "        \n",
    "        return dp[n-1][m-1]\n",
    "    \n",
    "s = Solution()\n",
    "print(s.minTimeToReach([[94,79,62,27,69,84],[6,32,11,82,42,30]]))"
   ]
  },
  {
   "cell_type": "code",
   "execution_count": 14,
   "metadata": {},
   "outputs": [
    {
     "data": {
      "text/plain": [
       "(0, 2, 3, 3)"
      ]
     },
     "execution_count": 14,
     "metadata": {},
     "output_type": "execute_result"
    }
   ],
   "source": [
    "h = [(0, 0, 0,2)]\n",
    "from heapq import heappop, heappush\n",
    "d, i, j,k = heappop(h)\n",
    "heappush(h, (1, 2, 3,3))\n",
    "heappush(h, (0, 2, 3,3))    \n",
    "d, i, j,k = heappop(h)\n",
    "d,i,j,k\n"
   ]
  },
  {
   "cell_type": "code",
   "execution_count": 1,
   "metadata": {},
   "outputs": [
    {
     "data": {
      "text/plain": [
       "[1, 2, 3, 2]"
      ]
     },
     "execution_count": 1,
     "metadata": {},
     "output_type": "execute_result"
    }
   ],
   "source": [
    "[1,2,3] + [2]"
   ]
  },
  {
   "cell_type": "code",
   "execution_count": 5,
   "metadata": {},
   "outputs": [
    {
     "data": {
      "text/plain": [
       "[1, 2, 3, -1, -1, -1, -1, -1, -1]"
      ]
     },
     "execution_count": 5,
     "metadata": {},
     "output_type": "execute_result"
    }
   ],
   "source": [
    "a = [1,2,3]\n",
    "E = [-1 for _ in range(3)]\n",
    "a.extend(E)\n",
    "a.extend(E) \n",
    "a\n",
    "if isinstance(a, list):\n",
    "    print(\"list\")"
   ]
  },
  {
   "cell_type": "code",
   "execution_count": null,
   "metadata": {},
   "outputs": [],
   "source": [
    "a.append(-1 *3)"
   ]
  },
  {
   "cell_type": "markdown",
   "metadata": {},
   "source": []
  },
  {
   "cell_type": "code",
   "execution_count": null,
   "metadata": {},
   "outputs": [],
   "source": [
    "# "
   ]
  }
 ],
 "metadata": {
  "kernelspec": {
   "display_name": "robodiff1",
   "language": "python",
   "name": "python3"
  },
  "language_info": {
   "codemirror_mode": {
    "name": "ipython",
    "version": 3
   },
   "file_extension": ".py",
   "mimetype": "text/x-python",
   "name": "python",
   "nbconvert_exporter": "python",
   "pygments_lexer": "ipython3",
   "version": "3.9.18"
  }
 },
 "nbformat": 4,
 "nbformat_minor": 2
}
