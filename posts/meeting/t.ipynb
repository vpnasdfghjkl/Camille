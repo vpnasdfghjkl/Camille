{
 "cells": [
  {
   "cell_type": "code",
   "execution_count": 1,
   "metadata": {},
   "outputs": [
    {
     "name": "stdout",
     "output_type": "stream",
     "text": [
      "<class 'str'>\n"
     ]
    }
   ],
   "source": [
    "ret = list()\n",
    "ret.append(\"M\"*3)\n",
    "print(type(str(ret)))"
   ]
  },
  {
   "cell_type": "code",
   "execution_count": 10,
   "metadata": {},
   "outputs": [
    {
     "name": "stdout",
     "output_type": "stream",
     "text": [
      "n > 99\n"
     ]
    }
   ],
   "source": [
    "n = 100\n",
    "if n > 99:\n",
    "    print(\"n > 99\")\n",
    "elif n >10:\n",
    "    print(\"n > 10\")\n",
    "    \n",
    "    "
   ]
  },
  {
   "cell_type": "code",
   "execution_count": 14,
   "metadata": {},
   "outputs": [
    {
     "name": "stdout",
     "output_type": "stream",
     "text": [
      "MMMDCCXLIX\n"
     ]
    }
   ],
   "source": [
    "list_str = ['MMM', 'DCC', 'XL', 'IX']\n",
    "all_str = ''.join(list_str)\n",
    "print(str(all_str))"
   ]
  },
  {
   "cell_type": "code",
   "execution_count": 52,
   "metadata": {},
   "outputs": [
    {
     "data": {
      "text/plain": [
       "[0, 8, 16]"
      ]
     },
     "execution_count": 52,
     "metadata": {},
     "output_type": "execute_result"
    }
   ],
   "source": [
    "#create a 2d list for string ,numRows = 3, numCols = ?\n",
    "numRows = 3\n",
    "numCols = n\n",
    "list_str = [['' for i in range(numCols)] for j in range(numRows)]\n",
    "\n",
    "array = [1, 2, 3, 4, 5]\n",
    "list(range(0, 20, 8))\n",
    "\n"
   ]
  },
  {
   "cell_type": "code",
   "execution_count": 2,
   "metadata": {},
   "outputs": [
    {
     "name": "stdout",
     "output_type": "stream",
     "text": [
      "['Science   is what we', 'understand      well', 'enough to explain to', 'a   computer. Art is', 'everything  else  we', 'do                  ']\n"
     ]
    }
   ],
   "source": [
    "from typing import List\n",
    "class Solution:\n",
    "    def fullJustify(self, words: List[str], maxWidth: int) -> List[str]:\n",
    "        i, j = 0, 0 \n",
    "        cur_sum = 0\n",
    "        ret = []\n",
    "        while i < len(words) and j < len(words):\n",
    "            cur_sum += len(words[j])\n",
    "            \n",
    "            if (cur_sum + (j-i))  > maxWidth:\n",
    "                cur_sum -= len(words[j])\n",
    "                num_word = j - i\n",
    "                if num_word == 1:\n",
    "                    first_space = maxWidth - cur_sum\n",
    "                else:\n",
    "                    average_space = (maxWidth - cur_sum) //(num_word-1) \n",
    "                    first_space = (maxWidth - cur_sum) % (num_word-1) + average_space \n",
    "                    other_space = average_space\n",
    "                \n",
    "                the_line = \"\"\n",
    "                for k in range(i, j):\n",
    "                    if k == i:\n",
    "                        the_line = the_line + words[k] + (\" \" * first_space)\n",
    "                    elif k == j-1:\n",
    "                        the_line = the_line + words[k]\n",
    "                    else:\n",
    "                        the_line = the_line + words[k] + (\" \" * other_space)\n",
    "                ret.append(the_line)\n",
    "\n",
    "                cur_sum = 0\n",
    "                i = j\n",
    "            else:\n",
    "                j += 1\n",
    "        \n",
    "        the_line = \"\"\n",
    "        for k in range(i, j):\n",
    "            if k != j-1:\n",
    "                the_line = the_line + words[k] + \" \"\n",
    "            else:\n",
    "                the_line = the_line + words[k] + \" \" * (maxWidth - cur_sum - (j-i-1))\n",
    "        ret.append(the_line)\n",
    "\n",
    "        return ret\n",
    "s = Solution()\n",
    "words = [\"Science\",\"is\",\"what\",\"we\",\"understand\",\"well\",\"enough\",\"to\",\"explain\",\"to\",\"a\",\"computer.\",\"Art\",\"is\",\"everything\",\"else\",\"we\",\"do\"]\n",
    "maxWidth = 20\n",
    "print(s.fullJustify(words, maxWidth))"
   ]
  },
  {
   "cell_type": "code",
   "execution_count": null,
   "metadata": {},
   "outputs": [],
   "source": [
    "class Solution:\n",
    "    def strStr(self, haystack: str, needle: str) -> int:\n",
    "        for i in range(0, len(haystack)-len(needle)+1):\n",
    "            if haystack[i] == needle[0]:\n",
    "                for j in range(len(needle)):\n",
    "                    if haystack[i+j] == needle[j]:\n",
    "                        continue\n",
    "                    else:\n",
    "                        break\n",
    "                if j == len(needle):\n",
    "                    return i\n",
    "            else:\n",
    "                continue\n",
    "        return -1\n",
    "s = Solution()\n",
    "s.strStr(\"sadbutsad\",\"sad\")"
   ]
  },
  {
   "cell_type": "code",
   "execution_count": 2,
   "metadata": {},
   "outputs": [],
   "source": [
    "for i in range(8,7):\n",
    "    print(\"1\")"
   ]
  },
  {
   "cell_type": "code",
   "execution_count": null,
   "metadata": {},
   "outputs": [],
   "source": []
  },
  {
   "cell_type": "code",
   "execution_count": null,
   "metadata": {},
   "outputs": [],
   "source": [
    "class Solution(object):\n",
    "    def threeSum(self, nums):\n",
    "        \"\"\"\n",
    "        :type nums: List[int]\n",
    "        :rtype: List[List[int]]\n",
    "        \"\"\"\n",
    "        sorted_num = sorted(nums)\n",
    "        ret = []\n",
    "        for i in range(len(sorted_num)):\n",
    "            target = 0 - sorted_num[i]\n",
    "            j, k = 0, len(sorted_num)-1\n",
    "            while j < k:\n",
    "                if j == i :\n",
    "                    j += 1\n",
    "                    continue\n",
    "                if k == i:\n",
    "                    k -= 1\n",
    "                    continue\n",
    "                if sorted_num[j] + sorted_num[k] < target:\n",
    "                    j += 1\n",
    "                elif sorted_num[j] + sorted_num[k] > target:\n",
    "                    k -= 1\n",
    "                else:\n",
    "                    ret.append([sorted_num[i], sorted_num[j], sorted_num[k]])\n",
    "        return ret\n",
    "\n",
    "        # -4 -1 -1 0 1 2\n",
    "s = Solution()\n",
    "s.threeSum([-1,0,1,2,-1,-4])"
   ]
  },
  {
   "cell_type": "code",
   "execution_count": 25,
   "metadata": {},
   "outputs": [
    {
     "name": "stdout",
     "output_type": "stream",
     "text": [
      "[[0.87742467 0.68606537 0.85436081 0.58101485 0.043006   0.31437145\n",
      "  0.         0.         0.         0.         0.139985   0.\n",
      "  0.         0.         0.         0.         0.         0.\n",
      "  0.         0.         0.         0.         0.         0.\n",
      "  0.         0.         0.         0.         0.         0.\n",
      "  0.         0.         0.         0.         0.         0.\n",
      "  0.         0.         0.         0.         0.         0.\n",
      "  0.         0.         0.         0.         0.         0.\n",
      "  0.         0.         0.86495446 0.17457013 0.19101457 0.57609387\n",
      "  0.46373903 0.70885772 0.         0.         0.         0.\n",
      "  0.38168736 0.         0.         0.         0.         0.\n",
      "  0.         0.         0.         0.         0.         0.\n",
      "  0.         0.         0.         0.         0.         0.\n",
      "  0.         0.         0.         0.         0.         0.\n",
      "  0.         0.         0.         0.         0.         0.\n",
      "  0.         0.         0.         0.         0.         0.\n",
      "  0.         0.         0.         0.         0.         0.\n",
      "  0.         0.         0.         0.         0.         0.\n",
      "  0.         0.         0.         0.         0.         0.\n",
      "  0.         0.         0.         0.         0.         0.\n",
      "  0.         0.         0.         0.         0.         0.\n",
      "  0.         0.        ]]\n"
     ]
    }
   ],
   "source": [
    "import numpy as np\n",
    "T = 1\n",
    "D = 14\n",
    "values = np.random.rand(T, D)\n",
    "uni_vec = np.zeros(values.shape[:-1] + (128,))\n",
    "UNI_STATE_INDICES = [50, 51, 52, 53, 54, 55, 60, 0, 1, 2, 3, 4, 5, 10]\n",
    "uni_vec[..., UNI_STATE_INDICES] = values\n",
    "print(uni_vec)"
   ]
  },
  {
   "cell_type": "code",
   "execution_count": 7,
   "metadata": {},
   "outputs": [
    {
     "name": "stdout",
     "output_type": "stream",
     "text": [
      "range(1, 5)\n",
      "range(2, 5)\n",
      "range(3, 5)\n",
      "range(4, 5)\n",
      "range(3, 4)\n",
      "range(2, 3)\n",
      "range(4, 5)\n",
      "range(2, 4)\n",
      "range(3, 4)\n",
      "range(2, 3)\n",
      "range(1, 2)\n",
      "range(3, 5)\n",
      "range(4, 5)\n",
      "range(3, 4)\n",
      "range(1, 3)\n",
      "range(2, 3)\n",
      "range(1, 2)\n",
      "range(4, 5)\n",
      "range(1, 4)\n",
      "range(2, 4)\n",
      "range(3, 4)\n",
      "range(2, 3)\n",
      "range(1, 2)\n",
      "range(3, 4)\n",
      "range(1, 3)\n",
      "range(2, 3)\n",
      "range(1, 2)\n",
      "16\n"
     ]
    }
   ],
   "source": [
    "from typing import List\n",
    "class Solution:\n",
    "    def minCost(self, n: int, cuts: List[int]) -> int:\n",
    "        cuts.sort()\n",
    "        cuts = [0] + cuts + [n]\n",
    "\n",
    "        def dfs(i: int, j: int) -> int:\n",
    "            if i + 1 == j:  # 无需切割\n",
    "                return 0\n",
    "            # 枚举切割位置 cuts[k]\n",
    "            print(range(i + 1, j))\n",
    "            return min(dfs(i, k) + dfs(k, j) for k in range(i + 1, j)) + cuts[j] - cuts[i]\n",
    "\n",
    "        return dfs(0, len(cuts) - 1)\n",
    "\n",
    "\n",
    "s = Solution()\n",
    "print(s.minCost(7, [1,3,4,5]))"
   ]
  },
  {
   "cell_type": "code",
   "execution_count": 1,
   "metadata": {},
   "outputs": [
    {
     "ename": "KeyboardInterrupt",
     "evalue": "",
     "output_type": "error",
     "traceback": [
      "\u001b[0;31m---------------------------------------------------------------------------\u001b[0m",
      "\u001b[0;31mKeyboardInterrupt\u001b[0m                         Traceback (most recent call last)",
      "Cell \u001b[0;32mIn[1], line 19\u001b[0m\n\u001b[1;32m     17\u001b[0m         \u001b[38;5;28;01mreturn\u001b[39;00m cnt\n\u001b[1;32m     18\u001b[0m s \u001b[38;5;241m=\u001b[39m Solution()\n\u001b[0;32m---> 19\u001b[0m \u001b[43ms\u001b[49m\u001b[38;5;241;43m.\u001b[39;49m\u001b[43mcountKConstraintSubstrings\u001b[49m\u001b[43m(\u001b[49m\u001b[38;5;124;43m\"\u001b[39;49m\u001b[38;5;124;43m1010101\u001b[39;49m\u001b[38;5;124;43m\"\u001b[39;49m\u001b[43m,\u001b[49m\u001b[43m \u001b[49m\u001b[38;5;241;43m1\u001b[39;49m\u001b[43m)\u001b[49m\n",
      "Cell \u001b[0;32mIn[1], line 15\u001b[0m, in \u001b[0;36mSolution.countKConstraintSubstrings\u001b[0;34m(self, s, k)\u001b[0m\n\u001b[1;32m     13\u001b[0m     \u001b[38;5;28;01mfor\u001b[39;00m start \u001b[38;5;129;01min\u001b[39;00m \u001b[38;5;28mrange\u001b[39m(n\u001b[38;5;241m-\u001b[39mi\u001b[38;5;241m+\u001b[39m\u001b[38;5;241m1\u001b[39m):\n\u001b[1;32m     14\u001b[0m         sub_s \u001b[38;5;241m=\u001b[39m s[start:start\u001b[38;5;241m+\u001b[39mi]\n\u001b[0;32m---> 15\u001b[0m         \u001b[38;5;28;01mif\u001b[39;00m \u001b[43mcheck\u001b[49m\u001b[43m(\u001b[49m\u001b[43msub_s\u001b[49m\u001b[43m,\u001b[49m\u001b[43m \u001b[49m\u001b[43mk\u001b[49m\u001b[43m)\u001b[49m:\n\u001b[1;32m     16\u001b[0m             cnt \u001b[38;5;241m+\u001b[39m\u001b[38;5;241m=\u001b[39m \u001b[38;5;241m1\u001b[39m\n\u001b[1;32m     17\u001b[0m \u001b[38;5;28;01mreturn\u001b[39;00m cnt\n",
      "Cell \u001b[0;32mIn[1], line 7\u001b[0m, in \u001b[0;36mSolution.countKConstraintSubstrings.<locals>.check\u001b[0;34m(ss, k)\u001b[0m\n\u001b[1;32m      5\u001b[0m \u001b[38;5;28;01mdef\u001b[39;00m \u001b[38;5;21mcheck\u001b[39m(ss, k):\n\u001b[1;32m      6\u001b[0m     num_of_one \u001b[38;5;241m=\u001b[39m \u001b[38;5;28msum\u001b[39m([\u001b[38;5;28mint\u001b[39m(i) \u001b[38;5;28;01mfor\u001b[39;00m i \u001b[38;5;129;01min\u001b[39;00m s])\n\u001b[0;32m----> 7\u001b[0m     num_of_zero \u001b[38;5;241m=\u001b[39m \u001b[38;5;28;43mlen\u001b[39;49m(ss) \u001b[38;5;241m-\u001b[39m num_of_one\n\u001b[1;32m      8\u001b[0m     \u001b[38;5;28;01mif\u001b[39;00m num_of_one \u001b[38;5;241m<\u001b[39m\u001b[38;5;241m=\u001b[39m k \u001b[38;5;129;01mor\u001b[39;00m num_of_zero \u001b[38;5;241m<\u001b[39m\u001b[38;5;241m=\u001b[39m k:\n\u001b[1;32m      9\u001b[0m         \u001b[38;5;28;01mreturn\u001b[39;00m \u001b[38;5;28;01mTrue\u001b[39;00m\n",
      "Cell \u001b[0;32mIn[1], line 7\u001b[0m, in \u001b[0;36mSolution.countKConstraintSubstrings.<locals>.check\u001b[0;34m(ss, k)\u001b[0m\n\u001b[1;32m      5\u001b[0m \u001b[38;5;28;01mdef\u001b[39;00m \u001b[38;5;21mcheck\u001b[39m(ss, k):\n\u001b[1;32m      6\u001b[0m     num_of_one \u001b[38;5;241m=\u001b[39m \u001b[38;5;28msum\u001b[39m([\u001b[38;5;28mint\u001b[39m(i) \u001b[38;5;28;01mfor\u001b[39;00m i \u001b[38;5;129;01min\u001b[39;00m s])\n\u001b[0;32m----> 7\u001b[0m     num_of_zero \u001b[38;5;241m=\u001b[39m \u001b[38;5;28;43mlen\u001b[39;49m(ss) \u001b[38;5;241m-\u001b[39m num_of_one\n\u001b[1;32m      8\u001b[0m     \u001b[38;5;28;01mif\u001b[39;00m num_of_one \u001b[38;5;241m<\u001b[39m\u001b[38;5;241m=\u001b[39m k \u001b[38;5;129;01mor\u001b[39;00m num_of_zero \u001b[38;5;241m<\u001b[39m\u001b[38;5;241m=\u001b[39m k:\n\u001b[1;32m      9\u001b[0m         \u001b[38;5;28;01mreturn\u001b[39;00m \u001b[38;5;28;01mTrue\u001b[39;00m\n",
      "File \u001b[0;32m_pydevd_bundle/pydevd_cython.pyx:1600\u001b[0m, in \u001b[0;36m_pydevd_bundle.pydevd_cython.trace_dispatch\u001b[0;34m()\u001b[0m\n",
      "File \u001b[0;32m_pydevd_bundle/pydevd_cython.pyx:1457\u001b[0m, in \u001b[0;36m_pydevd_bundle.pydevd_cython.SafeCallWrapper.__call__\u001b[0;34m()\u001b[0m\n",
      "File \u001b[0;32m_pydevd_bundle/pydevd_cython.pyx:1834\u001b[0m, in \u001b[0;36m_pydevd_bundle.pydevd_cython.ThreadTracer.__call__\u001b[0;34m()\u001b[0m\n",
      "File \u001b[0;32m_pydevd_bundle/pydevd_cython.pyx:1152\u001b[0m, in \u001b[0;36m_pydevd_bundle.pydevd_cython.PyDBFrame.trace_dispatch\u001b[0;34m()\u001b[0m\n",
      "File \u001b[0;32m_pydevd_bundle/pydevd_cython.pyx:1135\u001b[0m, in \u001b[0;36m_pydevd_bundle.pydevd_cython.PyDBFrame.trace_dispatch\u001b[0;34m()\u001b[0m\n",
      "File \u001b[0;32m_pydevd_bundle/pydevd_cython.pyx:312\u001b[0m, in \u001b[0;36m_pydevd_bundle.pydevd_cython.PyDBFrame.do_wait_suspend\u001b[0;34m()\u001b[0m\n",
      "File \u001b[0;32m~/miniconda3/envs/robodiff1/lib/python3.9/site-packages/debugpy/_vendored/pydevd/pydevd.py:2070\u001b[0m, in \u001b[0;36mPyDB.do_wait_suspend\u001b[0;34m(self, thread, frame, event, arg, exception_type)\u001b[0m\n\u001b[1;32m   2067\u001b[0m             from_this_thread\u001b[38;5;241m.\u001b[39mappend(frame_custom_thread_id)\n\u001b[1;32m   2069\u001b[0m     \u001b[38;5;28;01mwith\u001b[39;00m \u001b[38;5;28mself\u001b[39m\u001b[38;5;241m.\u001b[39m_threads_suspended_single_notification\u001b[38;5;241m.\u001b[39mnotify_thread_suspended(thread_id, thread, stop_reason):\n\u001b[0;32m-> 2070\u001b[0m         keep_suspended \u001b[38;5;241m=\u001b[39m \u001b[38;5;28;43mself\u001b[39;49m\u001b[38;5;241;43m.\u001b[39;49m\u001b[43m_do_wait_suspend\u001b[49m\u001b[43m(\u001b[49m\u001b[43mthread\u001b[49m\u001b[43m,\u001b[49m\u001b[43m \u001b[49m\u001b[43mframe\u001b[49m\u001b[43m,\u001b[49m\u001b[43m \u001b[49m\u001b[43mevent\u001b[49m\u001b[43m,\u001b[49m\u001b[43m \u001b[49m\u001b[43marg\u001b[49m\u001b[43m,\u001b[49m\u001b[43m \u001b[49m\u001b[43msuspend_type\u001b[49m\u001b[43m,\u001b[49m\u001b[43m \u001b[49m\u001b[43mfrom_this_thread\u001b[49m\u001b[43m,\u001b[49m\u001b[43m \u001b[49m\u001b[43mframes_tracker\u001b[49m\u001b[43m)\u001b[49m\n\u001b[1;32m   2072\u001b[0m frames_list \u001b[38;5;241m=\u001b[39m \u001b[38;5;28;01mNone\u001b[39;00m\n\u001b[1;32m   2074\u001b[0m \u001b[38;5;28;01mif\u001b[39;00m keep_suspended:\n\u001b[1;32m   2075\u001b[0m     \u001b[38;5;66;03m# This means that we should pause again after a set next statement.\u001b[39;00m\n",
      "File \u001b[0;32m~/miniconda3/envs/robodiff1/lib/python3.9/site-packages/debugpy/_vendored/pydevd/pydevd.py:2106\u001b[0m, in \u001b[0;36mPyDB._do_wait_suspend\u001b[0;34m(self, thread, frame, event, arg, suspend_type, from_this_thread, frames_tracker)\u001b[0m\n\u001b[1;32m   2103\u001b[0m         \u001b[38;5;28mself\u001b[39m\u001b[38;5;241m.\u001b[39m_call_input_hook()\n\u001b[1;32m   2105\u001b[0m     \u001b[38;5;28mself\u001b[39m\u001b[38;5;241m.\u001b[39mprocess_internal_commands()\n\u001b[0;32m-> 2106\u001b[0m     \u001b[43mtime\u001b[49m\u001b[38;5;241;43m.\u001b[39;49m\u001b[43msleep\u001b[49m\u001b[43m(\u001b[49m\u001b[38;5;241;43m0.01\u001b[39;49m\u001b[43m)\u001b[49m\n\u001b[1;32m   2108\u001b[0m \u001b[38;5;28mself\u001b[39m\u001b[38;5;241m.\u001b[39mcancel_async_evaluation(get_current_thread_id(thread), \u001b[38;5;28mstr\u001b[39m(\u001b[38;5;28mid\u001b[39m(frame)))\n\u001b[1;32m   2110\u001b[0m \u001b[38;5;66;03m# process any stepping instructions\u001b[39;00m\n",
      "\u001b[0;31mKeyboardInterrupt\u001b[0m: "
     ]
    }
   ],
   "source": [
    "class Solution:\n",
    "    def countKConstraintSubstrings(self, s: str, k: int) -> int:\n",
    "        n = len(s)\n",
    "        cnt = 0\n",
    "        def check(ss, k):\n",
    "            num_of_one = sum([int(i) for i in s])\n",
    "            num_of_zero = len(ss) - num_of_one\n",
    "            if num_of_one <= k or num_of_zero <= k:\n",
    "                return True\n",
    "            else:\n",
    "                return False\n",
    "        for i in range(1, n+1):\n",
    "            for start in range(n-i+1):\n",
    "                sub_s = s[start:start+i]\n",
    "                if check(sub_s, k):\n",
    "                    cnt += 1\n",
    "        return cnt\n",
    "s = Solution()\n",
    "s.countKConstraintSubstrings(\"1010101\", 1)"
   ]
  },
  {
   "cell_type": "code",
   "execution_count": null,
   "metadata": {},
   "outputs": [
    {
     "name": "stdout",
     "output_type": "stream",
     "text": [
      "[15, 9, 3]\n"
     ]
    }
   ],
   "source": [
    "from typing import List\n",
    "class Solution:\n",
    "    def countKConstraintSubstrings(self, s: str, k: int, queries: List[List[int]]) -> List[int]:\n",
    "        ret = []\n",
    "        # this_cnt = 0\n",
    "        left, p = 0, 0 \n",
    "        n_zero, n_one = 0, 0\n",
    "        for i, c in enumerate(s):\n",
    "            if c == \"0\":\n",
    "                n_zero += 1\n",
    "            elif c == \"1\":\n",
    "                n_one += 1\n",
    "            while n_zero > k and n_one > k:\n",
    "                if s[left] == '0':\n",
    "                    n_zero -= 1\n",
    "                elif s[left] == '1':\n",
    "                    n_one -= 1\n",
    "                left += 1\n",
    "            # this_cnt = i - left + 1\n",
    "            ret.append(left)\n",
    "        final_ret = []\n",
    "        for i, j in queries:\n",
    "            tmp_ret = 0\n",
    "            for k in range(j, i-1, -1):\n",
    "                tmp_ret += (k-max(ret[k], i)+1) \n",
    "            final_ret.append(tmp_ret)\n",
    "        return final_ret\n",
    "s = Solution()\n",
    "print(s.countKConstraintSubstrings(\"010101\", 1, [[0,5],[1,4],[2,3]]))"
   ]
  },
  {
   "cell_type": "code",
   "execution_count": null,
   "metadata": {},
   "outputs": [
    {
     "name": "stdout",
     "output_type": "stream",
     "text": [
      "[0, 1, 4, 0, 5, 2, 9, 1, 10, 0, 12, 1, 15, 0, 18, 2, 20, 1, 22, 2, 24, 0, 26, 0, 30, 2]\n"
     ]
    },
    {
     "ename": "TypeError",
     "evalue": "'int' object is not subscriptable",
     "output_type": "error",
     "traceback": [
      "\u001b[1;31m---------------------------------------------------------------------------\u001b[0m",
      "\u001b[1;31mTypeError\u001b[0m                                 Traceback (most recent call last)",
      "Cell \u001b[1;32mIn[5], line 45\u001b[0m\n\u001b[0;32m     42\u001b[0m         \u001b[38;5;28;01mreturn\u001b[39;00m ret\n\u001b[0;32m     44\u001b[0m s \u001b[38;5;241m=\u001b[39m Solution()\n\u001b[1;32m---> 45\u001b[0m \u001b[43ms\u001b[49m\u001b[38;5;241;43m.\u001b[39;49m\u001b[43msmallestRange\u001b[49m\u001b[43m(\u001b[49m\u001b[43m[\u001b[49m\u001b[43m[\u001b[49m\u001b[38;5;241;43m4\u001b[39;49m\u001b[43m,\u001b[49m\u001b[38;5;241;43m10\u001b[39;49m\u001b[43m,\u001b[49m\u001b[38;5;241;43m15\u001b[39;49m\u001b[43m,\u001b[49m\u001b[38;5;241;43m24\u001b[39;49m\u001b[43m,\u001b[49m\u001b[38;5;241;43m26\u001b[39;49m\u001b[43m]\u001b[49m\u001b[43m,\u001b[49m\u001b[43m[\u001b[49m\u001b[38;5;241;43m0\u001b[39;49m\u001b[43m,\u001b[49m\u001b[38;5;241;43m9\u001b[39;49m\u001b[43m,\u001b[49m\u001b[38;5;241;43m12\u001b[39;49m\u001b[43m,\u001b[49m\u001b[38;5;241;43m20\u001b[39;49m\u001b[43m]\u001b[49m\u001b[43m,\u001b[49m\u001b[43m[\u001b[49m\u001b[38;5;241;43m5\u001b[39;49m\u001b[43m,\u001b[49m\u001b[38;5;241;43m18\u001b[39;49m\u001b[43m,\u001b[49m\u001b[38;5;241;43m22\u001b[39;49m\u001b[43m,\u001b[49m\u001b[38;5;241;43m30\u001b[39;49m\u001b[43m]\u001b[49m\u001b[43m]\u001b[49m\u001b[43m)\u001b[49m\n",
      "Cell \u001b[1;32mIn[5], line 25\u001b[0m, in \u001b[0;36mSolution.smallestRange\u001b[1;34m(self, nums)\u001b[0m\n\u001b[0;32m     23\u001b[0m cur_ret \u001b[38;5;241m=\u001b[39m \u001b[38;5;28;01mNone\u001b[39;00m\n\u001b[0;32m     24\u001b[0m \u001b[38;5;28;01mwhile\u001b[39;00m j \u001b[38;5;241m<\u001b[39m\u001b[38;5;241m=\u001b[39m \u001b[38;5;28mlen\u001b[39m(all_list):\n\u001b[1;32m---> 25\u001b[0m     cur_w_set \u001b[38;5;241m=\u001b[39m \u001b[38;5;28mset\u001b[39m([\u001b[43mall_sorted\u001b[49m\u001b[43m[\u001b[49m\u001b[43mm\u001b[49m\u001b[43m]\u001b[49m\u001b[43m[\u001b[49m\u001b[38;5;241;43m1\u001b[39;49m\u001b[43m]\u001b[49m \u001b[38;5;28;01mfor\u001b[39;00m m \u001b[38;5;129;01min\u001b[39;00m \u001b[38;5;28mrange\u001b[39m(i, j)])\n\u001b[0;32m     26\u001b[0m     \u001b[38;5;28;01mif\u001b[39;00m cur_w_set \u001b[38;5;241m==\u001b[39m std_w_set:\n\u001b[0;32m     27\u001b[0m         \u001b[38;5;28;01mif\u001b[39;00m all_sorted[j\u001b[38;5;241m-\u001b[39m\u001b[38;5;241m1\u001b[39m][\u001b[38;5;241m0\u001b[39m] \u001b[38;5;241m-\u001b[39m all_sorted[i][\u001b[38;5;241m0\u001b[39m] \u001b[38;5;241m<\u001b[39m cur_len:\n",
      "\u001b[1;31mTypeError\u001b[0m: 'int' object is not subscriptable"
     ]
    }
   ],
   "source": [
    "import heapq\n",
    "\n",
    "# 输入数据，每个元组的第一个元素是值，第二个元素是该元组来自的列表索引\n",
    "nums = [\n",
    "    [(4, 0), (10, 0), (15, 0), (24, 0), (26, 0)], \n",
    "    [(0, 1), (9, 1), (12, 1), (20, 1)], \n",
    "    [(5, 2), (18, 2), (22, 2), (30, 2)]\n",
    "]\n",
    "\n",
    "# 使用 heapq.merge 合并多个有序的子列表\n",
    "merged_sorted = list(heapq.merge(*nums))\n",
    "\n",
    "print(merged_sorted)\n",
    "merged_sorted[0][1]"
   ]
  }
 ],
 "metadata": {
  "kernelspec": {
   "display_name": "Python 3",
   "language": "python",
   "name": "python3"
  },
  "language_info": {
   "codemirror_mode": {
    "name": "ipython",
    "version": 3
   },
   "file_extension": ".py",
   "mimetype": "text/x-python",
   "name": "python",
   "nbconvert_exporter": "python",
   "pygments_lexer": "ipython3",
   "version": "3.12.2"
  }
 },
 "nbformat": 4,
 "nbformat_minor": 2
}
