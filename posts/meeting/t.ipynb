{
 "cells": [
  {
   "cell_type": "code",
   "execution_count": 1,
   "metadata": {},
   "outputs": [
    {
     "name": "stdout",
     "output_type": "stream",
     "text": [
      "<class 'str'>\n"
     ]
    }
   ],
   "source": [
    "ret = list()\n",
    "ret.append(\"M\"*3)\n",
    "print(type(str(ret)))"
   ]
  },
  {
   "cell_type": "code",
   "execution_count": 10,
   "metadata": {},
   "outputs": [
    {
     "name": "stdout",
     "output_type": "stream",
     "text": [
      "n > 99\n"
     ]
    }
   ],
   "source": [
    "n = 100\n",
    "if n > 99:\n",
    "    print(\"n > 99\")\n",
    "elif n >10:\n",
    "    print(\"n > 10\")\n",
    "    \n",
    "    "
   ]
  },
  {
   "cell_type": "code",
   "execution_count": 14,
   "metadata": {},
   "outputs": [
    {
     "name": "stdout",
     "output_type": "stream",
     "text": [
      "MMMDCCXLIX\n"
     ]
    }
   ],
   "source": [
    "list_str = ['MMM', 'DCC', 'XL', 'IX']\n",
    "all_str = ''.join(list_str)\n",
    "print(str(all_str))"
   ]
  },
  {
   "cell_type": "code",
   "execution_count": 52,
   "metadata": {},
   "outputs": [
    {
     "data": {
      "text/plain": [
       "[0, 8, 16]"
      ]
     },
     "execution_count": 52,
     "metadata": {},
     "output_type": "execute_result"
    }
   ],
   "source": [
    "#create a 2d list for string ,numRows = 3, numCols = ?\n",
    "numRows = 3\n",
    "numCols = n\n",
    "list_str = [['' for i in range(numCols)] for j in range(numRows)]\n",
    "\n",
    "array = [1, 2, 3, 4, 5]\n",
    "list(range(0, 20, 8))\n",
    "\n"
   ]
  },
  {
   "cell_type": "code",
   "execution_count": 2,
   "metadata": {},
   "outputs": [
    {
     "name": "stdout",
     "output_type": "stream",
     "text": [
      "['Science   is what we', 'understand      well', 'enough to explain to', 'a   computer. Art is', 'everything  else  we', 'do                  ']\n"
     ]
    }
   ],
   "source": [
    "from typing import List\n",
    "class Solution:\n",
    "    def fullJustify(self, words: List[str], maxWidth: int) -> List[str]:\n",
    "        i, j = 0, 0 \n",
    "        cur_sum = 0\n",
    "        ret = []\n",
    "        while i < len(words) and j < len(words):\n",
    "            cur_sum += len(words[j])\n",
    "            \n",
    "            if (cur_sum + (j-i))  > maxWidth:\n",
    "                cur_sum -= len(words[j])\n",
    "                num_word = j - i\n",
    "                if num_word == 1:\n",
    "                    first_space = maxWidth - cur_sum\n",
    "                else:\n",
    "                    average_space = (maxWidth - cur_sum) //(num_word-1) \n",
    "                    first_space = (maxWidth - cur_sum) % (num_word-1) + average_space \n",
    "                    other_space = average_space\n",
    "                \n",
    "                the_line = \"\"\n",
    "                for k in range(i, j):\n",
    "                    if k == i:\n",
    "                        the_line = the_line + words[k] + (\" \" * first_space)\n",
    "                    elif k == j-1:\n",
    "                        the_line = the_line + words[k]\n",
    "                    else:\n",
    "                        the_line = the_line + words[k] + (\" \" * other_space)\n",
    "                ret.append(the_line)\n",
    "\n",
    "                cur_sum = 0\n",
    "                i = j\n",
    "            else:\n",
    "                j += 1\n",
    "        \n",
    "        the_line = \"\"\n",
    "        for k in range(i, j):\n",
    "            if k != j-1:\n",
    "                the_line = the_line + words[k] + \" \"\n",
    "            else:\n",
    "                the_line = the_line + words[k] + \" \" * (maxWidth - cur_sum - (j-i-1))\n",
    "        ret.append(the_line)\n",
    "\n",
    "        return ret\n",
    "s = Solution()\n",
    "words = [\"Science\",\"is\",\"what\",\"we\",\"understand\",\"well\",\"enough\",\"to\",\"explain\",\"to\",\"a\",\"computer.\",\"Art\",\"is\",\"everything\",\"else\",\"we\",\"do\"]\n",
    "maxWidth = 20\n",
    "print(s.fullJustify(words, maxWidth))"
   ]
  },
  {
   "cell_type": "code",
   "execution_count": null,
   "metadata": {},
   "outputs": [],
   "source": [
    "class Solution:\n",
    "    def strStr(self, haystack: str, needle: str) -> int:\n",
    "        for i in range(0, len(haystack)-len(needle)+1):\n",
    "            if haystack[i] == needle[0]:\n",
    "                for j in range(len(needle)):\n",
    "                    if haystack[i+j] == needle[j]:\n",
    "                        continue\n",
    "                    else:\n",
    "                        break\n",
    "                if j == len(needle):\n",
    "                    return i\n",
    "            else:\n",
    "                continue\n",
    "        return -1\n",
    "s = Solution()\n",
    "s.strStr(\"sadbutsad\",\"sad\")"
   ]
  },
  {
   "cell_type": "code",
   "execution_count": 2,
   "metadata": {},
   "outputs": [],
   "source": [
    "for i in range(8,7):\n",
    "    print(\"1\")"
   ]
  },
  {
   "cell_type": "code",
   "execution_count": null,
   "metadata": {},
   "outputs": [],
   "source": []
  },
  {
   "cell_type": "code",
   "execution_count": null,
   "metadata": {},
   "outputs": [],
   "source": [
    "class Solution(object):\n",
    "    def threeSum(self, nums):\n",
    "        \"\"\"\n",
    "        :type nums: List[int]\n",
    "        :rtype: List[List[int]]\n",
    "        \"\"\"\n",
    "        sorted_num = sorted(nums)\n",
    "        ret = []\n",
    "        for i in range(len(sorted_num)):\n",
    "            target = 0 - sorted_num[i]\n",
    "            j, k = 0, len(sorted_num)-1\n",
    "            while j < k:\n",
    "                if j == i :\n",
    "                    j += 1\n",
    "                    continue\n",
    "                if k == i:\n",
    "                    k -= 1\n",
    "                    continue\n",
    "                if sorted_num[j] + sorted_num[k] < target:\n",
    "                    j += 1\n",
    "                elif sorted_num[j] + sorted_num[k] > target:\n",
    "                    k -= 1\n",
    "                else:\n",
    "                    ret.append([sorted_num[i], sorted_num[j], sorted_num[k]])\n",
    "        return ret\n",
    "\n",
    "        # -4 -1 -1 0 1 2\n",
    "s = Solution()\n",
    "s.threeSum([-1,0,1,2,-1,-4])"
   ]
  },
  {
   "cell_type": "code",
   "execution_count": 25,
   "metadata": {},
   "outputs": [
    {
     "name": "stdout",
     "output_type": "stream",
     "text": [
      "[[0.87742467 0.68606537 0.85436081 0.58101485 0.043006   0.31437145\n",
      "  0.         0.         0.         0.         0.139985   0.\n",
      "  0.         0.         0.         0.         0.         0.\n",
      "  0.         0.         0.         0.         0.         0.\n",
      "  0.         0.         0.         0.         0.         0.\n",
      "  0.         0.         0.         0.         0.         0.\n",
      "  0.         0.         0.         0.         0.         0.\n",
      "  0.         0.         0.         0.         0.         0.\n",
      "  0.         0.         0.86495446 0.17457013 0.19101457 0.57609387\n",
      "  0.46373903 0.70885772 0.         0.         0.         0.\n",
      "  0.38168736 0.         0.         0.         0.         0.\n",
      "  0.         0.         0.         0.         0.         0.\n",
      "  0.         0.         0.         0.         0.         0.\n",
      "  0.         0.         0.         0.         0.         0.\n",
      "  0.         0.         0.         0.         0.         0.\n",
      "  0.         0.         0.         0.         0.         0.\n",
      "  0.         0.         0.         0.         0.         0.\n",
      "  0.         0.         0.         0.         0.         0.\n",
      "  0.         0.         0.         0.         0.         0.\n",
      "  0.         0.         0.         0.         0.         0.\n",
      "  0.         0.         0.         0.         0.         0.\n",
      "  0.         0.        ]]\n"
     ]
    }
   ],
   "source": [
    "import numpy as np\n",
    "T = 1\n",
    "D = 14\n",
    "values = np.random.rand(T, D)\n",
    "uni_vec = np.zeros(values.shape[:-1] + (128,))\n",
    "UNI_STATE_INDICES = [50, 51, 52, 53, 54, 55, 60, 0, 1, 2, 3, 4, 5, 10]\n",
    "uni_vec[..., UNI_STATE_INDICES] = values\n",
    "print(uni_vec)"
   ]
  }
 ],
 "metadata": {
  "kernelspec": {
   "display_name": "Python 3",
   "language": "python",
   "name": "python3"
  },
  "language_info": {
   "codemirror_mode": {
    "name": "ipython",
    "version": 3
   },
   "file_extension": ".py",
   "mimetype": "text/x-python",
   "name": "python",
   "nbconvert_exporter": "python",
   "pygments_lexer": "ipython3",
   "version": "3.12.2"
  }
 },
 "nbformat": 4,
 "nbformat_minor": 2
}
