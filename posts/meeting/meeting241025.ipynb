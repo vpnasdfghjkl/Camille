{
 "cells": [
  {
   "cell_type": "markdown",
   "metadata": {},
   "source": [
    "# RDT"
   ]
  },
  {
   "cell_type": "markdown",
   "metadata": {},
   "source": [
    "## diffusion model\n",
    "\n",
    "1. image generation (H, W, C)  \n",
    "    *input* : text + image,  text  -> dim: embeded feature(eg. 512)  \n",
    "    *output*: image\n",
    "\n",
    "2. action generation (T,D)   \n",
    "    *input*: text + image + state  -> dim: embeded feature(eg. 512)  \n",
    "    *output*: action  \n",
    "\n",
    "**从高斯噪声中->目标图像/动作**"
   ]
  },
  {
   "cell_type": "code",
   "execution_count": 101,
   "metadata": {},
   "outputs": [
    {
     "name": "stdout",
     "output_type": "stream",
     "text": [
      "Image Mean: -0.00 \t Action Mean: 0.01 \n",
      " Image Std: 1.00 \t Action Std: 1.00\n"
     ]
    }
   ],
   "source": [
    "import numpy as np\n",
    "image_shape = (480, 640, 3)   #(H, W, C) / (H * W, C)\n",
    "action_shape = (64, 14)       #(T,    D)\n",
    "\n",
    "image_noise = np.random.randn(*image_shape)\n",
    "action_noise = np.random.randn(*action_shape)\n",
    "\n",
    "image_mean = np.mean(image_noise)\n",
    "action_mean = np.mean(action_noise)\n",
    "image_std = np.std(image_noise)\n",
    "action_std = np.std(action_noise)\n",
    "\n",
    "print(\"Image Mean: {:.2f}\".format(image_mean), '\\t', \"Action Mean: {:.2f}\".format(action_mean), '\\n' \\\n",
    "     ,\"Image Std: {:.2f}\".format(image_std),'\\t', \"Action Std: {:.2f}\".format(action_std))\n"
   ]
  },
  {
   "cell_type": "markdown",
   "metadata": {},
   "source": [
    "![alt text](<Screenshot from 2024-10-25 15-25-45.png>)"
   ]
  },
  {
   "cell_type": "markdown",
   "metadata": {},
   "source": [
    "## model Arch"
   ]
  },
  {
   "cell_type": "markdown",
   "metadata": {},
   "source": [
    "1. train loop\n",
    "2. denoise loop\n",
    "3. denoise net\n",
    "\n",
    "- *Physically Interpretable Unified Action Space*"
   ]
  },
  {
   "cell_type": "code",
   "execution_count": 94,
   "metadata": {},
   "outputs": [
    {
     "name": "stdout",
     "output_type": "stream",
     "text": [
      "[[0.76223225 0.17486141 0.15169683 0.80622616 0.617724   0.41231457\n",
      "  0.         0.         0.         0.         0.51530947 0.\n",
      "  0.         0.         0.         0.         0.         0.\n",
      "  0.         0.         0.         0.         0.         0.\n",
      "  0.         0.         0.         0.         0.         0.\n",
      "  0.         0.         0.         0.         0.         0.\n",
      "  0.         0.         0.         0.         0.         0.\n",
      "  0.         0.         0.         0.         0.         0.\n",
      "  0.         0.         0.83552917 0.5020277  0.63354146 0.46235182\n",
      "  0.44113812 0.29631667 0.         0.         0.         0.\n",
      "  0.70900169 0.         0.         0.         0.         0.\n",
      "  0.         0.         0.         0.         0.         0.\n",
      "  0.         0.         0.         0.         0.         0.\n",
      "  0.         0.         0.         0.         0.         0.\n",
      "  0.         0.         0.         0.         0.         0.\n",
      "  0.         0.         0.         0.         0.         0.\n",
      "  0.         0.         0.         0.         0.         0.\n",
      "  0.         0.         0.         0.         0.         0.\n",
      "  0.         0.         0.         0.         0.         0.\n",
      "  0.         0.         0.         0.         0.         0.\n",
      "  0.         0.         0.         0.         0.         0.\n",
      "  0.         0.        ]]\n"
     ]
    }
   ],
   "source": [
    "import numpy as np\n",
    "T = 1\n",
    "D = 14\n",
    "values = np.random.rand(T, D)\n",
    "uni_vec = np.zeros(values.shape[:-1] + (128,))\n",
    "UNI_STATE_INDICES = [50, 51, 52, 53, 54, 55, 60, 0, 1, 2, 3, 4, 5, 10]\n",
    "uni_vec[..., UNI_STATE_INDICES] = values\n",
    "print(uni_vec)"
   ]
  }
 ],
 "metadata": {
  "kernelspec": {
   "display_name": "robodiff1",
   "language": "python",
   "name": "python3"
  },
  "language_info": {
   "codemirror_mode": {
    "name": "ipython",
    "version": 3
   },
   "file_extension": ".py",
   "mimetype": "text/x-python",
   "name": "python",
   "nbconvert_exporter": "python",
   "pygments_lexer": "ipython3",
   "version": "3.9.18"
  }
 },
 "nbformat": 4,
 "nbformat_minor": 2
}
