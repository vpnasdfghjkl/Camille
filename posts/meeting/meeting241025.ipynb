{
 "cells": [
  {
   "cell_type": "markdown",
   "metadata": {},
   "source": [
    "# RDT"
   ]
  },
  {
   "cell_type": "markdown",
   "metadata": {},
   "source": [
    "## diffusion model\n",
    "\n",
    "1. **image generation** (H, W, C) / （H * W, C）  \n",
    "    *input* : text + image,  text  -> dim: embeded feature(eg. 512)  \n",
    "    *output*: image\n",
    "\n",
    "2. **action generation** (T,D)   \n",
    "    *input*: text + image + state  -> dim: embeded feature(eg. 512)  \n",
    "    *output*: action  \n",
    "\n",
    "**从高斯噪声中->目标图像/动作**"
   ]
  },
  {
   "cell_type": "code",
   "execution_count": 17,
   "metadata": {},
   "outputs": [
    {
     "name": "stdout",
     "output_type": "stream",
     "text": [
      "Image Mean: 0.00 \t Action Mean: 0.01 \n",
      " Image Std: 1.00 \t Action Std: 1.01\n"
     ]
    }
   ],
   "source": [
    "import numpy as np\n",
    "image_shape = (480, 640, 3)   #(H, W, C) / (H * W, C)\n",
    "action_shape = (64, 14)       #(T,    D)\n",
    "\n",
    "image_noise = np.random.randn(*image_shape)\n",
    "action_noise = np.random.randn(*action_shape)\n",
    "\n",
    "image_mean = np.mean(image_noise)\n",
    "action_mean = np.mean(action_noise)\n",
    "image_std = np.std(image_noise)\n",
    "action_std = np.std(action_noise)\n",
    "\n",
    "print(\"Image Mean: {:.2f}\".format(image_mean), '\\t', \"Action Mean: {:.2f}\".format(action_mean), '\\n' \\\n",
    "     ,\"Image Std: {:.2f}\".format(image_std),'\\t', \"Action Std: {:.2f}\".format(action_std))\n"
   ]
  },
  {
   "cell_type": "markdown",
   "metadata": {},
   "source": [
    "![alt text](<Screenshot from 2024-10-25 15-25-45.png>)"
   ]
  },
  {
   "cell_type": "markdown",
   "metadata": {},
   "source": [
    "## model Arch"
   ]
  },
  {
   "cell_type": "markdown",
   "metadata": {},
   "source": [
    "1. train loop\n",
    "2. denoise loop\n",
    "3. denoise net\n",
    "\n",
    "- *Physically Interpretable Unified Action Space*"
   ]
  },
  {
   "cell_type": "code",
   "execution_count": 1,
   "metadata": {},
   "outputs": [
    {
     "name": "stdout",
     "output_type": "stream",
     "text": [
      "[[0.17321947 0.8099045  0.14617963 0.39501086 0.58600758 0.86382906\n",
      "  0.         0.         0.         0.         0.67946617 0.\n",
      "  0.         0.         0.         0.         0.         0.\n",
      "  0.         0.         0.         0.         0.         0.\n",
      "  0.         0.         0.         0.         0.         0.\n",
      "  0.         0.         0.         0.         0.         0.\n",
      "  0.         0.         0.         0.         0.         0.\n",
      "  0.         0.         0.         0.         0.         0.\n",
      "  0.         0.         0.17170275 0.82324492 0.04032742 0.3024643\n",
      "  0.79285663 0.54248407 0.         0.         0.         0.\n",
      "  0.39416904 0.         0.         0.         0.         0.\n",
      "  0.         0.         0.         0.         0.         0.\n",
      "  0.         0.         0.         0.         0.         0.\n",
      "  0.         0.         0.         0.         0.         0.\n",
      "  0.         0.         0.         0.         0.         0.\n",
      "  0.         0.         0.         0.         0.         0.\n",
      "  0.         0.         0.         0.         0.         0.\n",
      "  0.         0.         0.         0.         0.         0.\n",
      "  0.         0.         0.         0.         0.         0.\n",
      "  0.         0.         0.         0.         0.         0.\n",
      "  0.         0.         0.         0.         0.         0.\n",
      "  0.         0.        ]]\n"
     ]
    }
   ],
   "source": [
    "import numpy as np\n",
    "T = 1\n",
    "D = 14\n",
    "values = np.random.rand(T, D)\n",
    "uni_vec = np.zeros(values.shape[:-1] + (128,))\n",
    "UNI_STATE_INDICES = [50, 51, 52, 53, 54, 55, 60, 0, 1, 2, 3, 4, 5, 10]\n",
    "uni_vec[..., UNI_STATE_INDICES] = values\n",
    "print(uni_vec)"
   ]
  },
  {
   "cell_type": "code",
   "execution_count": 5,
   "metadata": {},
   "outputs": [
    {
     "name": "stdout",
     "output_type": "stream",
     "text": [
      "False\n"
     ]
    }
   ],
   "source": [
    "class Solution(object):\n",
    "    def isValidSudoku(self, board):\n",
    "        \"\"\"\n",
    "        :type board: List[List[str]]\n",
    "        :rtype: bool\n",
    "        \"\"\"\n",
    "        for i in range(9):\n",
    "            check = []\n",
    "            for j in range(9):\n",
    "                cur = board[i][j]\n",
    "                if cur not in check and cur != \".\":\n",
    "                    check.append(board[i][j])\n",
    "                elif cur != \".\":\n",
    "                    return False\n",
    "\n",
    "        for j in range(9):\n",
    "            check = []\n",
    "            for i in range(9):\n",
    "                cur = board[i][j]\n",
    "                if cur not in check and cur != \".\":\n",
    "                    check.append(cur)\n",
    "                else:\n",
    "                    return False\n",
    "        \n",
    "        for i in range(0, 9, 3):\n",
    "            for j in range(0, 9, 3):\n",
    "                check = []\n",
    "                for k in range(3):\n",
    "                    for l in range(3):\n",
    "                        cur = board[i+k][j+l]\n",
    "                        if cur not in check and cur != \".\":\n",
    "                            check.append(cur)\n",
    "                        else:\n",
    "                            return False\n",
    "        return True\n",
    "board = [[\"5\",\"3\",\".\",\".\",\"7\",\".\",\".\",\".\",\".\"]\n",
    ",[\"6\",\".\",\".\",\"1\",\"9\",\"5\",\".\",\".\",\".\"]\n",
    ",[\".\",\"9\",\"8\",\".\",\".\",\".\",\".\",\"6\",\".\"]\n",
    ",[\"8\",\".\",\".\",\".\",\"6\",\".\",\".\",\".\",\"3\"]\n",
    ",[\"4\",\".\",\".\",\"8\",\".\",\"3\",\".\",\".\",\"1\"]\n",
    ",[\"7\",\".\",\".\",\".\",\"2\",\".\",\".\",\".\",\"6\"]\n",
    ",[\".\",\"6\",\".\",\".\",\".\",\".\",\"2\",\"8\",\".\"]\n",
    ",[\".\",\".\",\".\",\"4\",\"1\",\"9\",\".\",\".\",\"5\"]\n",
    ",[\".\",\".\",\".\",\".\",\"8\",\".\",\".\",\"7\",\"9\"]]\n",
    "\n",
    "s = Solution()\n",
    "print(s.isValidSudoku(board))"
   ]
  }
 ],
 "metadata": {
  "kernelspec": {
   "display_name": "Python 3",
   "language": "python",
   "name": "python3"
  },
  "language_info": {
   "codemirror_mode": {
    "name": "ipython",
    "version": 3
   },
   "file_extension": ".py",
   "mimetype": "text/x-python",
   "name": "python",
   "nbconvert_exporter": "python",
   "pygments_lexer": "ipython3",
   "version": "3.12.2"
  }
 },
 "nbformat": 4,
 "nbformat_minor": 2
}
